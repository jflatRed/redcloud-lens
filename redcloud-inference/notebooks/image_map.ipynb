{
 "cells": [
  {
   "cell_type": "code",
   "execution_count": 1,
   "id": "3daf815a-eedd-4075-9d00-2af26b3d840e",
   "metadata": {},
   "outputs": [],
   "source": [
    "import pandas as pd"
   ]
  },
  {
   "cell_type": "code",
   "execution_count": 52,
   "id": "d46eacad-5442-4528-9b83-7e43ec502865",
   "metadata": {},
   "outputs": [],
   "source": [
    "images_df=pd.read_csv(\"/Users/joshuaeseigbe/Documents/Work/redcloud-lens/redcloud-inference/data/image_sku.csv\")\n",
    "ng_mapping_df=pd.read_csv(\"/Users/joshuaeseigbe/Documents/Work/redcloud-lens/redcloud-inference/data/nigeria_sku_mapping_table.csv\")\n",
    "product_ids=pd.read_csv(\"/Users/joshuaeseigbe/Documents/Work/redcloud-lens/redcloud-inference/data/product_ids.csv\")"
   ]
  },
  {
   "cell_type": "code",
   "execution_count": 53,
   "id": "615e00b8-dfa3-412e-9eae-1caeed2b0690",
   "metadata": {},
   "outputs": [
    {
     "name": "stdout",
     "output_type": "stream",
     "text": [
      "Index(['sku', 'base_image'], dtype='object')\n",
      "Index(['Product Name', 'Top Category', 'Category Name', 'Country', 'Brand',\n",
      "       'SKU_STRING', 'GTIN', 'EAN', 'Mapping', 'Mapping Type', 'Metadata',\n",
      "       'ImageUrl'],\n",
      "      dtype='object')\n",
      "Index(['product_id', 'sku'], dtype='object')\n"
     ]
    }
   ],
   "source": [
    "print(images_df.columns)\n",
    "print(ng_mapping_df.columns)\n",
    "print(product_ids.columns)"
   ]
  },
  {
   "cell_type": "code",
   "execution_count": 105,
   "id": "5c73ff9d-1661-4813-9e49-ee90f05d6906",
   "metadata": {},
   "outputs": [
    {
     "name": "stdout",
     "output_type": "stream",
     "text": [
      "5984\n",
      "41307\n",
      "          mapping      sku      product_id  \\\n",
      "0  '4897107700291  MUN-007  product_5483_n   \n",
      "1  '9310651aa24d4  MUN-006  product_5425_n   \n",
      "2  '2a83c5c012444  MUN-008  product_4519_n   \n",
      "3  '5010296002051  LAM-097  product_3712_n   \n",
      "4  '5010296002051  OWO-054  product_3712_n   \n",
      "\n",
      "                                          base_image  \n",
      "0     /8/0/806-oga_aromatic_schnapps_6___750ml_1.png  \n",
      "1       /8/0/805-oga_aromatic_schnapps_6___375ml.png  \n",
      "2  /8/0/807-oga_blended_dry_gin_48_x_100ml_yrzgem...  \n",
      "3  /1/2/1290_best_london_dry_gin_24_x_20cl_huf2ue...  \n",
      "4  /6/2/624-best-london-dry-gin-24-x-20cl_i0cbyt7...   34469\n",
      "          mapping      product_id  \\\n",
      "0  '4897107700291  product_5483_n   \n",
      "1  '9310651aa24d4  product_5425_n   \n",
      "2  '2a83c5c012444  product_4519_n   \n",
      "3  '5010296002051  product_3712_n   \n",
      "4  '5010296002051  product_3712_n   \n",
      "\n",
      "                                          base_image  \n",
      "0     /8/0/806-oga_aromatic_schnapps_6___750ml_1.png  \n",
      "1       /8/0/805-oga_aromatic_schnapps_6___375ml.png  \n",
      "2  /8/0/807-oga_blended_dry_gin_48_x_100ml_yrzgem...  \n",
      "3  /1/2/1290_best_london_dry_gin_24_x_20cl_huf2ue...  \n",
      "4  /6/2/624-best-london-dry-gin-24-x-20cl_i0cbyt7...   20666\n"
     ]
    }
   ],
   "source": [
    "print(len(ng_mapping_df))\n",
    "ng_mapping_df['mapping']=ng_mapping_df['Mapping']\n",
    "ng_mapping_df['sku'] = ng_mapping_df['SKU_STRING'].str.split(',')\n",
    "\n",
    "df_exploded = ng_mapping_df.explode('sku')\n",
    "\n",
    "\n",
    "# Reset index\n",
    "df_exploded = df_exploded.reset_index(drop=True)\n",
    "df_exploded=df_exploded[[\"mapping\",\"sku\"]]\n",
    "\n",
    "# Display result\n",
    "print(len(df_exploded))\n",
    "\n",
    "\n",
    "\n",
    "final_df=pd.merge(df_exploded, product_ids, left_on='sku', right_on='sku', how='left')\n",
    "final_df=pd.merge(final_df,images_df,left_on='sku', right_on='sku', how='left').drop_duplicates(subset=['sku','base_image']).dropna(subset=['base_image']).reset_index(drop=True)\n",
    "\n",
    "df_image=final_df\n",
    "# .drop_duplicates(['mapping','product_id'])\n",
    "df_unique_ids=final_df.drop(labels='sku',axis=1).drop_duplicates(subset=['mapping','product_id','base_image'])\n",
    "df_unique_ids.to_csv(\"nigeria_image_mapping.csv\",index=False)\n",
    "\n",
    "\n",
    "print(final_df.head(),len(final_df))\n",
    "print(df_unique_ids.head(),len(df_unique_ids))"
   ]
  },
  {
   "cell_type": "code",
   "execution_count": 79,
   "id": "620359fe-3951-4e23-9402-6ebec9fb2b76",
   "metadata": {},
   "outputs": [
    {
     "name": "stdout",
     "output_type": "stream",
     "text": [
      "0        False\n",
      "1        False\n",
      "2        False\n",
      "3        False\n",
      "4        False\n",
      "         ...  \n",
      "34464    False\n",
      "34465     True\n",
      "34466     True\n",
      "34467    False\n",
      "34468     True\n",
      "Length: 34469, dtype: bool\n"
     ]
    }
   ],
   "source": [
    "# len(final_df['base_image'].unique())\n",
    "# new_sku_df=final_df['sku']\n",
    "# empty_rows=final_df.isnull().any(axis=1)\n",
    "# print(empty_rows)\n",
    "# unique_image_mapping={}\n",
    "# for x in range(len(new_sku_df)):\n",
    "#     key=final_df[\"base_image\"][x]\n",
    "#     value=final_df['sku'][x]\n",
    "#     if empty_rows[x]:\n",
    "#         pass\n",
    "#     else:\n",
    "#         if unique_image_mapping.get(key,None):\n",
    "#             unique_image_mapping[key].append(value)\n",
    "#         else:\n",
    "#             unique_image_mapping[key]=[value]\n",
    "\n",
    "        \n",
    "    \n",
    "    \n"
   ]
  },
  {
   "cell_type": "code",
   "execution_count": null,
   "id": "6fecae85-d344-4456-b4fd-7a8c8879f884",
   "metadata": {},
   "outputs": [],
   "source": []
  },
  {
   "cell_type": "code",
   "execution_count": null,
   "id": "4a2aa974-4da4-42bb-8ebe-495cc14046cc",
   "metadata": {},
   "outputs": [],
   "source": []
  }
 ],
 "metadata": {
  "kernelspec": {
   "display_name": "venv",
   "language": "python",
   "name": "venv"
  },
  "language_info": {
   "codemirror_mode": {
    "name": "ipython",
    "version": 3
   },
   "file_extension": ".py",
   "mimetype": "text/x-python",
   "name": "python",
   "nbconvert_exporter": "python",
   "pygments_lexer": "ipython3",
   "version": "3.11.3"
  }
 },
 "nbformat": 4,
 "nbformat_minor": 5
}
